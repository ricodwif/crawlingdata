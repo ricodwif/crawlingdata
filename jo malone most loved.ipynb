{
 "cells": [
  {
   "cell_type": "code",
   "execution_count": 1,
   "id": "5bea682f",
   "metadata": {},
   "outputs": [],
   "source": [
    "#Rico Dwi Firmansyah\n",
    "#2043221080\n",
    "\n",
    "from  bs4 import BeautifulSoup\n",
    "import requests\n",
    "import pandas as pd\n",
    "\n",
    "from selenium import webdriver\n",
    "import chromedriver_autoinstaller"
   ]
  },
  {
   "cell_type": "code",
   "execution_count": 2,
   "id": "f5ebf7f7",
   "metadata": {},
   "outputs": [],
   "source": [
    "#install browser such as chrome\n",
    "chromedriver_autoinstaller.install()\n",
    "\n",
    "#use the installed browser for selenium\n",
    "browser = webdriver.Chrome()"
   ]
  },
  {
   "cell_type": "code",
   "execution_count": 3,
   "id": "c9f31fab",
   "metadata": {},
   "outputs": [],
   "source": [
    "#sama kaya get, cuman pake selenium\n",
    "browser.get('https://www.jomalone.com/most-loved')\n",
    "\n",
    "#dibuat lebih rapi\n",
    "soup = BeautifulSoup(browser.page_source, \"lxml\")"
   ]
  },
  {
   "cell_type": "code",
   "execution_count": 4,
   "id": "9e8ed1e4",
   "metadata": {},
   "outputs": [],
   "source": [
    "rows = soup.find_all('div', class_='elc-main-content-section js-main-content-section')"
   ]
  },
  {
   "cell_type": "code",
   "execution_count": 6,
   "id": "2270f9d9",
   "metadata": {},
   "outputs": [
    {
     "data": {
      "text/plain": [
       "64"
      ]
     },
     "execution_count": 6,
     "metadata": {},
     "output_type": "execute_result"
    }
   ],
   "source": [
    "len(rows)"
   ]
  },
  {
   "cell_type": "code",
   "execution_count": 7,
   "id": "b34c366d",
   "metadata": {},
   "outputs": [],
   "source": [
    "data = []\n",
    "for row in rows:\n",
    "    badge_element = row.find(class_='elc-product-badge js-product-badge')\n",
    "    badge = badge_element.text if badge_element is not None else \"\"\n",
    "    name_element = row.find(class_='elc-clickable-wrapper js-clickable-wrapper elc-product-display-name-wrapper js-product-display-name-wrapper')\n",
    "    name = name_element.text if name_element is not None else \"\"\n",
    "    price_element = row.find(class_='elc-formatted-price js-formatted-price')\n",
    "    price = price_element.text if price_element is not None else \"\"\n",
    "    size_element = row.find(class_='elc-size js-size')\n",
    "    size = size_element.text if size_element is not None else \"\"\n",
    "\n",
    "    dt = {\n",
    "        'badge' : badge,\n",
    "        'name' : name,\n",
    "        'price' : price,\n",
    "        'size' : size,\n",
    "    }\n",
    "    data.append(dt)"
   ]
  },
  {
   "cell_type": "code",
   "execution_count": 8,
   "id": "ae1a9be7",
   "metadata": {},
   "outputs": [],
   "source": [
    "df = pd.DataFrame(data)"
   ]
  },
  {
   "cell_type": "code",
   "execution_count": 9,
   "id": "0748df1c",
   "metadata": {},
   "outputs": [
    {
     "data": {
      "text/html": [
       "<div>\n",
       "<style scoped>\n",
       "    .dataframe tbody tr th:only-of-type {\n",
       "        vertical-align: middle;\n",
       "    }\n",
       "\n",
       "    .dataframe tbody tr th {\n",
       "        vertical-align: top;\n",
       "    }\n",
       "\n",
       "    .dataframe thead th {\n",
       "        text-align: right;\n",
       "    }\n",
       "</style>\n",
       "<table border=\"1\" class=\"dataframe\">\n",
       "  <thead>\n",
       "    <tr style=\"text-align: right;\">\n",
       "      <th></th>\n",
       "      <th>badge</th>\n",
       "      <th>name</th>\n",
       "      <th>price</th>\n",
       "      <th>size</th>\n",
       "    </tr>\n",
       "  </thead>\n",
       "  <tbody>\n",
       "    <tr>\n",
       "      <th>0</th>\n",
       "      <td>BESTSELLER</td>\n",
       "      <td>Wood Sage &amp; Sea Salt Cologne</td>\n",
       "      <td>$155.00</td>\n",
       "      <td>100ml</td>\n",
       "    </tr>\n",
       "    <tr>\n",
       "      <th>1</th>\n",
       "      <td>LIMITED EDITION</td>\n",
       "      <td>Silk Blossom Diffuser</td>\n",
       "      <td>$105.00</td>\n",
       "      <td>165ml</td>\n",
       "    </tr>\n",
       "    <tr>\n",
       "      <th>2</th>\n",
       "      <td>BESTSELLER</td>\n",
       "      <td>Lime Basil &amp; Mandarin Scent Surround™ Diffuser</td>\n",
       "      <td>$105.00</td>\n",
       "      <td>165ml</td>\n",
       "    </tr>\n",
       "    <tr>\n",
       "      <th>3</th>\n",
       "      <td>BESTSELLER</td>\n",
       "      <td>English Pear &amp; Freesia Cologne</td>\n",
       "      <td>$155.00</td>\n",
       "      <td>100ml</td>\n",
       "    </tr>\n",
       "    <tr>\n",
       "      <th>4</th>\n",
       "      <td>LIMITED EDITION</td>\n",
       "      <td>Osmanthus Blossom Cologne</td>\n",
       "      <td>$158.00</td>\n",
       "      <td>100ml</td>\n",
       "    </tr>\n",
       "    <tr>\n",
       "      <th>...</th>\n",
       "      <td>...</td>\n",
       "      <td>...</td>\n",
       "      <td>...</td>\n",
       "      <td>...</td>\n",
       "    </tr>\n",
       "    <tr>\n",
       "      <th>59</th>\n",
       "      <td>BESTSELLER</td>\n",
       "      <td>Lime Basil &amp; Mandarin Body &amp; Hand Wash</td>\n",
       "      <td>$50.00</td>\n",
       "      <td>250ml</td>\n",
       "    </tr>\n",
       "    <tr>\n",
       "      <th>60</th>\n",
       "      <td>BESTSELLER</td>\n",
       "      <td>Oud &amp; Bergamot Cologne Intense</td>\n",
       "      <td>$220.00</td>\n",
       "      <td>100ml</td>\n",
       "    </tr>\n",
       "    <tr>\n",
       "      <th>61</th>\n",
       "      <td></td>\n",
       "      <td>Wood Sage &amp; Sea Salt Body &amp; Hand Wash</td>\n",
       "      <td>$28.00</td>\n",
       "      <td>100ml</td>\n",
       "    </tr>\n",
       "    <tr>\n",
       "      <th>62</th>\n",
       "      <td></td>\n",
       "      <td>Red Roses Bath Oil</td>\n",
       "      <td>$32.00</td>\n",
       "      <td>30ml</td>\n",
       "    </tr>\n",
       "    <tr>\n",
       "      <th>63</th>\n",
       "      <td>BESTSELLER</td>\n",
       "      <td>Moonlit Camomile Cologne</td>\n",
       "      <td>$155.00</td>\n",
       "      <td>100ml</td>\n",
       "    </tr>\n",
       "  </tbody>\n",
       "</table>\n",
       "<p>64 rows × 4 columns</p>\n",
       "</div>"
      ],
      "text/plain": [
       "              badge                                            name    price  \\\n",
       "0        BESTSELLER                    Wood Sage & Sea Salt Cologne  $155.00   \n",
       "1   LIMITED EDITION                           Silk Blossom Diffuser  $105.00   \n",
       "2        BESTSELLER  Lime Basil & Mandarin Scent Surround™ Diffuser  $105.00   \n",
       "3        BESTSELLER                  English Pear & Freesia Cologne  $155.00   \n",
       "4   LIMITED EDITION                       Osmanthus Blossom Cologne  $158.00   \n",
       "..              ...                                             ...      ...   \n",
       "59       BESTSELLER          Lime Basil & Mandarin Body & Hand Wash   $50.00   \n",
       "60       BESTSELLER                  Oud & Bergamot Cologne Intense  $220.00   \n",
       "61                            Wood Sage & Sea Salt Body & Hand Wash   $28.00   \n",
       "62                                               Red Roses Bath Oil   $32.00   \n",
       "63       BESTSELLER                       Moonlit Camomile Cologne   $155.00   \n",
       "\n",
       "     size  \n",
       "0   100ml  \n",
       "1   165ml  \n",
       "2   165ml  \n",
       "3   100ml  \n",
       "4   100ml  \n",
       "..    ...  \n",
       "59  250ml  \n",
       "60  100ml  \n",
       "61  100ml  \n",
       "62   30ml  \n",
       "63  100ml  \n",
       "\n",
       "[64 rows x 4 columns]"
      ]
     },
     "execution_count": 9,
     "metadata": {},
     "output_type": "execute_result"
    }
   ],
   "source": [
    "df"
   ]
  },
  {
   "cell_type": "code",
   "execution_count": 10,
   "id": "27ebb254",
   "metadata": {},
   "outputs": [],
   "source": [
    "nama_file = 'data_crawling_080.csv'\n",
    "df.to_csv(nama_file, index=False)"
   ]
  },
  {
   "cell_type": "code",
   "execution_count": null,
   "id": "2ccba2a3",
   "metadata": {},
   "outputs": [],
   "source": []
  }
 ],
 "metadata": {
  "kernelspec": {
   "display_name": "Python 3 (ipykernel)",
   "language": "python",
   "name": "python3"
  },
  "language_info": {
   "codemirror_mode": {
    "name": "ipython",
    "version": 3
   },
   "file_extension": ".py",
   "mimetype": "text/x-python",
   "name": "python",
   "nbconvert_exporter": "python",
   "pygments_lexer": "ipython3",
   "version": "3.9.13"
  }
 },
 "nbformat": 4,
 "nbformat_minor": 5
}
